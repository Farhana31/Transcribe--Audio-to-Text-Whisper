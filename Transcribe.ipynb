{
  "cells": [
    {
      "cell_type": "code",
      "source": [
        "#https://github.com/openai/whisper"
        "#https://wandb.ai/wandb_fc/gentle-intros/reports/OpenAI-Whisper-How-to-Transcribe-Your-Audio-to-Text-for-Free-with-SRTs-VTTs---VmlldzozNDczNTI0"
      ],
      "metadata": {
        "id": "sl58oePY5x_X"
      },
      "execution_count": null,
      "outputs": []
    },
    {
      "cell_type": "code",
      "source": [
        "!pip install git+https://github.com/openai/whisper.git\n",
        "!sudo apt update && sudo apt install ffmpeg"
      ],
      "metadata": {
        "colab": {
          "base_uri": "https://localhost:8080/"
        },
        "collapsed": true,
        "id": "JK6Ys0l-3964",
        "outputId": "c11bbccc-3fc0-4cc0-e60e-bed418dc13ac"
      },
      "execution_count": 4,
      "outputs": [
        {
          "output_type": "stream",
          "name": "stdout",
          "text": [
          ]
        }
      ]
    },
    {
      "cell_type": "code",
      "source": [
        "file_name=\"/content/harvard.wav\" #.wav .flac  .mp3"
      ],
      "metadata": {
        "id": "UY_tFUy1DDY6"
      },
      "execution_count": 19,
      "outputs": []
    },
    {
      "cell_type": "code",
      "source": [
        "#transcribe to English\n",
        "\n",
        "!whisper {file_name} --model medium"
      ],
      "metadata": {
        "colab": {
          "base_uri": "https://localhost:8080/"
        },
        "id": "bQE_xspW4ESf",
        "outputId": "e34c546f-a641-4a9f-a138-7bcc48a490ac"
      },
      "execution_count": 20,
      "outputs": [
        {
          "output_type": "stream",
          "name": "stdout",
          "text": [
            "Detecting language using up to the first 30 seconds. Use `--language` to specify the language\n",
            "Detected language: English\n",
            "[00:00.000 --> 00:04.000]  The stale smell of old beer lingers.\n",
            "[00:04.000 --> 00:07.000]  It takes heat to bring out the odor.\n",
            "[00:07.000 --> 00:10.000]  A cold dip restores health and zest.\n",
            "[00:10.000 --> 00:12.000]  A salt pickle tastes fine with ham.\n",
            "[00:12.000 --> 00:15.000]  Tacos al pastor are my favorite.\n",
            "[00:15.000 --> 00:18.000]  A zestful food is the hot cross bun.\n"
          ]
        }
      ]
    },
    {
      "cell_type": "code",
      "source": [
        "#transcribe to a language\n",
        "!whisper {file_name} --language Spanish"
      ],
      "metadata": {
        "id": "o1QSCIziCj4X"
      },
      "execution_count": null,
      "outputs": []
    },
    {
      "cell_type": "code",
      "source": [
        "#translate from  a language to English\n",
        "!whisper {file_name} --language Spanish --task translate"
      ],
      "metadata": {
        "id": "vs5Q-Lc-7jNJ"
      },
      "execution_count": null,
      "outputs": []
    }
  ],
  "metadata": {
    "accelerator": "GPU",
    "colab": {
      "gpuType": "L4",
      "machine_shape": "hm",
      "provenance": []
    },
    "kernelspec": {
      "display_name": "Python 3",
      "name": "python3"
    },
    "language_info": {
      "name": "python"
    }
  },
  "nbformat": 4,
  "nbformat_minor": 0
}
